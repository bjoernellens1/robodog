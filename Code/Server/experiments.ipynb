{
 "cells": [
  {
   "cell_type": "code",
   "execution_count": null,
   "id": "b6cd30db-7e5e-4e6a-a083-70b439029685",
   "metadata": {},
   "outputs": [],
   "source": [
    "import math\n",
    "from Control import *\n",
    "from Servo import *"
   ]
  },
  {
   "cell_type": "code",
   "execution_count": null,
   "id": "2dd09eb9-4f96-4e8f-8243-d43fe421d1fe",
   "metadata": {},
   "outputs": [],
   "source": [
    "class Action:\n",
    "    def __init__(self):\n",
    "        self.servo=Servo()\n",
    "        self.control=Control()\n",
    "        self.servo.setServoAngle(15,90)\n",
    "    def push_ups(self):\n",
    "        xyz=[[0,50,0],[-100,23,0],[-100,23,0],[0,50,0]]\n",
    "        for i in range(4):\n",
    "            xyz[i][0]=(xyz[i][0]-self.control.point[i][0])/30\n",
    "            xyz[i][1]=(xyz[i][1]-self.control.point[i][1])/30\n",
    "            xyz[i][2]=(xyz[i][2]-self.control.point[i][2])/30\n",
    "        for j in range(30):\n",
    "            for i in range(4):\n",
    "                self.control.point[i][0]+=xyz[i][0]\n",
    "                self.control.point[i][1]+=xyz[i][1]\n",
    "                self.control.point[i][2]+=xyz[i][2]\n",
    "            self.control.run()\n",
    "            time.sleep(0.01)\n",
    "        for i in range(4):\n",
    "            for i in range(50,120,1):\n",
    "                self.control.point[0][1]=i\n",
    "                self.control.point[3][1]=i\n",
    "                self.control.run()\n",
    "                time.sleep(0.01)\n",
    "            for i in range(120,50,-1):\n",
    "                self.control.point[0][1]=i\n",
    "                self.control.point[3][1]=i\n",
    "                self.control.run()\n",
    "                time.sleep(0.01)\n",
    "        xyz=[[55,78,0],[55,78,0],[55,78,0],[55,78,0]]\n",
    "        for i in range(4):\n",
    "            xyz[i][0]=(xyz[i][0]-self.control.point[i][0])/30\n",
    "            xyz[i][1]=(xyz[i][1]-self.control.point[i][1])/30\n",
    "            xyz[i][2]=(xyz[i][2]-self.control.point[i][2])/30\n",
    "        for j in range(30):\n",
    "            for i in range(4):\n",
    "                self.control.point[i][0]+=xyz[i][0]\n",
    "                self.control.point[i][1]+=xyz[i][1]\n",
    "                self.control.point[i][2]+=xyz[i][2]\n",
    "            self.control.run()\n",
    "            time.sleep(0.01)\n",
    "    def helloOne(self):  \n",
    "        xyz=[[-20,120,-40],[50,105,0],[50,105,0],[0,120,0]]\n",
    "        for i in range(4):\n",
    "            xyz[i][0]=(xyz[i][0]-self.control.point[i][0])/30\n",
    "            xyz[i][1]=(xyz[i][1]-self.control.point[i][1])/30\n",
    "            xyz[i][2]=(xyz[i][2]-self.control.point[i][2])/30\n",
    "        for j in range(30):\n",
    "            for i in range(4):\n",
    "                self.control.point[i][0]+=xyz[i][0]\n",
    "                self.control.point[i][1]+=xyz[i][1]\n",
    "                self.control.point[i][2]+=xyz[i][2]\n",
    "            self.control.run()\n",
    "            time.sleep(0.02)\n",
    "        x3=(80-self.control.point[3][0])/30\n",
    "        y3=(23-self.control.point[3][1])/30\n",
    "        z3=(0-self.control.point[3][2])/30\n",
    "        for j in range(30):\n",
    "            self.control.point[3][0]+=x3\n",
    "            self.control.point[3][1]+=y3\n",
    "            self.control.point[3][2]+=z3\n",
    "            self.control.run()\n",
    "            time.sleep(0.01)\n",
    "        for i in range(2):\n",
    "            for i in range(92,120,1):\n",
    "                self.servo.setServoAngle(11,i)\n",
    "                time.sleep(0.01)\n",
    "            for i in range(120,60,-1):\n",
    "                self.servo.setServoAngle(11,i)\n",
    "                time.sleep(0.01)\n",
    "            for i in range(60,92,1):\n",
    "                self.servo.setServoAngle(11,i)\n",
    "                time.sleep(0.01)\n",
    "        xyz=[[55,78,0],[55,78,0],[55,78,0],[55,78,0]]\n",
    "        for i in range(4):\n",
    "            xyz[i][0]=(xyz[i][0]-self.control.point[i][0])/30\n",
    "            xyz[i][1]=(xyz[i][1]-self.control.point[i][1])/30\n",
    "            xyz[i][2]=(xyz[i][2]-self.control.point[i][2])/30\n",
    "        for j in range(30):\n",
    "            for i in range(4):\n",
    "                self.control.point[i][0]+=xyz[i][0]\n",
    "                self.control.point[i][1]+=xyz[i][1]\n",
    "                self.control.point[i][2]+=xyz[i][2]\n",
    "            self.control.run()\n",
    "            time.sleep(0.02)\n",
    "        for i in range(90,130):\n",
    "            self.servo.setServoAngle(15,i)\n",
    "            time.sleep(0.02)\n",
    "        for i in range(130,50,-1):\n",
    "            self.servo.setServoAngle(15,i)\n",
    "            time.sleep(0.02)\n",
    "        for i in range(50,110):\n",
    "            self.servo.setServoAngle(15,i)\n",
    "            time.sleep(0.02)\n",
    "    def helloTwo(self): \n",
    "        xyz=[[0,99,-30],[10,99,0],[10,99,0],[0,99,0]]\n",
    "        for i in range(4):\n",
    "            xyz[i][0]=(xyz[i][0]-self.control.point[i][0])/30\n",
    "            xyz[i][1]=(xyz[i][1]-self.control.point[i][1])/30\n",
    "            xyz[i][2]=(xyz[i][2]-self.control.point[i][2])/30\n",
    "        for j in range(30):\n",
    "            for i in range(4):\n",
    "                self.control.point[i][0]+=xyz[i][0]\n",
    "                self.control.point[i][1]+=xyz[i][1]\n",
    "                self.control.point[i][2]+=xyz[i][2]\n",
    "            self.control.run()\n",
    "            time.sleep(0.02)    \n",
    "        x3=(80-self.control.point[3][0])/30\n",
    "        y3=(23-self.control.point[3][1])/30\n",
    "        z3=(0-self.control.point[3][2])/30\n",
    "        for j in range(30):\n",
    "            self.control.point[3][0]+=x3\n",
    "            self.control.point[3][1]+=y3\n",
    "            self.control.point[3][2]+=z3\n",
    "            self.control.run()\n",
    "            time.sleep(0.01)\n",
    "            \n",
    "        for i in range(2):\n",
    "            for i in range(92,120,1):\n",
    "                self.servo.setServoAngle(11,i)\n",
    "                time.sleep(0.01)\n",
    "            for i in range(120,60,-1):\n",
    "                self.servo.setServoAngle(11,i)\n",
    "                time.sleep(0.01)\n",
    "            for i in range(60,92,1):\n",
    "                self.servo.setServoAngle(11,i)\n",
    "                time.sleep(0.01)\n",
    "        self.control.stop()\n",
    "        for i in range(10):\n",
    "            self.control.setpLeft()\n",
    "    def hand(self):\n",
    "        xyz=[[-20,120,-20],[50,105,0],[50,105,0],[-20,120,20]]\n",
    "        for i in range(4):\n",
    "            xyz[i][0]=(xyz[i][0]-self.control.point[i][0])/30\n",
    "            xyz[i][1]=(xyz[i][1]-self.control.point[i][1])/30\n",
    "            xyz[i][2]=(xyz[i][2]-self.control.point[i][2])/30\n",
    "        for j in range(30):\n",
    "            for i in range(4):\n",
    "                self.control.point[i][0]+=xyz[i][0]\n",
    "                self.control.point[i][1]+=xyz[i][1]\n",
    "                self.control.point[i][2]+=xyz[i][2]\n",
    "            self.control.run()\n",
    "            time.sleep(0.02)\n",
    "        \n",
    "        for i in range(3):   \n",
    "            x3=(100-self.control.point[3][0])/30\n",
    "            y3=(40-self.control.point[3][1])/30\n",
    "            z3=(10-self.control.point[3][2])/30\n",
    "            for j in range(30):\n",
    "                self.control.point[3][0]+=x3\n",
    "                self.control.point[3][1]+=y3\n",
    "                self.control.point[3][2]+=z3\n",
    "                self.control.run()\n",
    "                time.sleep(0.001)\n",
    "                \n",
    "        \n",
    "            x3=(-20-self.control.point[3][0])/30\n",
    "            y3=(120-self.control.point[3][1])/30\n",
    "            z3=(20-self.control.point[3][2])/30\n",
    "            for j in range(30):\n",
    "                self.control.point[3][0]+=x3\n",
    "                self.control.point[3][1]+=y3\n",
    "                self.control.point[3][2]+=z3\n",
    "                self.control.run()\n",
    "                time.sleep(0.001)\n",
    "            \n",
    "            x0=(100-self.control.point[0][0])/30\n",
    "            y0=(40-self.control.point[0][1])/30\n",
    "            z0=(-10-self.control.point[0][2])/30\n",
    "            for j in range(30):\n",
    "                self.control.point[0][0]+=x0\n",
    "                self.control.point[0][1]+=y0\n",
    "                self.control.point[0][2]+=z0\n",
    "                self.control.run()\n",
    "                time.sleep(0.001)\n",
    "            x0=(-20-self.control.point[0][0])/30\n",
    "            y0=(120-self.control.point[0][1])/30\n",
    "            z0=(-20-self.control.point[0][2])/30\n",
    "            for j in range(30):\n",
    "                self.control.point[0][0]+=x0\n",
    "                self.control.point[0][1]+=y0\n",
    "                self.control.point[0][2]+=z0\n",
    "                self.control.run()\n",
    "                time.sleep(0.001)\n",
    "        xyz=[[55,78,0],[55,78,0],[55,78,0],[55,78,0]]\n",
    "        for i in range(4):\n",
    "            xyz[i][0]=(xyz[i][0]-self.control.point[i][0])/30\n",
    "            xyz[i][1]=(xyz[i][1]-self.control.point[i][1])/30\n",
    "            xyz[i][2]=(xyz[i][2]-self.control.point[i][2])/30\n",
    "        for j in range(30):\n",
    "            for i in range(4):\n",
    "                self.control.point[i][0]+=xyz[i][0]\n",
    "                self.control.point[i][1]+=xyz[i][1]\n",
    "                self.control.point[i][2]+=xyz[i][2]\n",
    "            self.control.run()\n",
    "            time.sleep(0.02)\n",
    "        \n",
    "    def coquettish(self):\n",
    "        xyz=[[80,80,0],[-30,120,0],[-30,120,0],[80,80,0]]\n",
    "        for i in range(4):\n",
    "            xyz[i][0]=(xyz[i][0]-self.control.point[i][0])/30\n",
    "            xyz[i][1]=(xyz[i][1]-self.control.point[i][1])/30\n",
    "            xyz[i][2]=(xyz[i][2]-self.control.point[i][2])/30\n",
    "        for j in range(30):\n",
    "            for i in range(4):\n",
    "                self.control.point[i][0]+=xyz[i][0]\n",
    "                self.control.point[i][1]+=xyz[i][1]\n",
    "                self.control.point[i][2]+=xyz[i][2]\n",
    "            self.control.run()\n",
    "            time.sleep(0.02)\n",
    "        while True:\n",
    "            xyz=[[80,80,-30],[-30,120,30],[-30,120,30],[80,80,-30]]\n",
    "            for i in range(4):\n",
    "                xyz[i][0]=(xyz[i][0]-self.control.point[i][0])/30\n",
    "                xyz[i][1]=(xyz[i][1]-self.control.point[i][1])/30\n",
    "                xyz[i][2]=(xyz[i][2]-self.control.point[i][2])/30\n",
    "            for j in range(30):\n",
    "                for i in range(4):\n",
    "                    self.control.point[i][0]+=xyz[i][0]\n",
    "                    self.control.point[i][1]+=xyz[i][1]\n",
    "                    self.control.point[i][2]+=xyz[i][2]\n",
    "                self.control.run()\n",
    "                time.sleep(0.02)\n",
    "            \n",
    "            xyz=[[80,80,30],[-30,120,-30],[-30,120,-30],[80,80,30]]\n",
    "            for i in range(4):\n",
    "                xyz[i][0]=(xyz[i][0]-self.control.point[i][0])/30\n",
    "                xyz[i][1]=(xyz[i][1]-self.control.point[i][1])/30\n",
    "                xyz[i][2]=(xyz[i][2]-self.control.point[i][2])/30\n",
    "            for j in range(30):\n",
    "                for i in range(4):\n",
    "                    self.control.point[i][0]+=xyz[i][0]\n",
    "                    self.control.point[i][1]+=xyz[i][1]\n",
    "                    self.control.point[i][2]+=xyz[i][2]\n",
    "                self.control.run()\n",
    "                time.sleep(0.02)\n",
    "                \n",
    "    def swim(self):\n",
    "        z=100*math.cos(45/180*math.pi)+23\n",
    "        x=100*math.sin(45/180*math.pi)\n",
    "        xyz=[[-x,0,z],[-78,0,100],[-78,0,-100],[-x,0,-z]]\n",
    "        for i in range(4):\n",
    "            xyz[i][0]=(xyz[i][0]-self.control.point[i][0])/30\n",
    "            xyz[i][1]=(xyz[i][1]-self.control.point[i][1])/30\n",
    "            xyz[i][2]=(xyz[i][2]-self.control.point[i][2])/30\n",
    "        for j in range(30):\n",
    "            for i in range(4):\n",
    "                self.control.point[i][0]+=xyz[i][0]\n",
    "                self.control.point[i][1]+=xyz[i][1]\n",
    "                self.control.point[i][2]+=xyz[i][2]\n",
    "            self.control.run()\n",
    "            time.sleep(0.02)\n",
    "        for i in range(3):\n",
    "            for i in range(45,-45,-1):\n",
    "                z=100*math.cos(i/180*math.pi)+23\n",
    "                x=100*math.sin(i/180*math.pi)\n",
    "                xyz=[[-x,0,z],[-78,0,100],[-78,0,-100],[-x,0,-z]]\n",
    "                for i in range(4):\n",
    "                    xyz[i][0]=(xyz[i][0]-self.control.point[i][0])\n",
    "                    xyz[i][1]=(xyz[i][1]-self.control.point[i][1])\n",
    "                    xyz[i][2]=(xyz[i][2]-self.control.point[i][2])\n",
    "                for i in range(4):\n",
    "                    self.control.point[i][0]+=xyz[i][0]\n",
    "                    self.control.point[i][1]+=xyz[i][1]\n",
    "                    self.control.point[i][2]+=xyz[i][2]\n",
    "                self.control.run()\n",
    "            for i in range(-45,45,1):\n",
    "                z=100*math.cos(i/180*math.pi)+23\n",
    "                x=100*math.sin(i/180*math.pi)\n",
    "                xyz=[[-x,0,z],[-78,0,100],[-78,0,-100],[-x,0,-z]]\n",
    "                for i in range(4):\n",
    "                    xyz[i][0]=(xyz[i][0]-self.control.point[i][0])\n",
    "                    xyz[i][1]=(xyz[i][1]-self.control.point[i][1])\n",
    "                    xyz[i][2]=(xyz[i][2]-self.control.point[i][2])\n",
    "                for i in range(4):\n",
    "                    self.control.point[i][0]+=xyz[i][0]\n",
    "                    self.control.point[i][1]+=xyz[i][1]\n",
    "                    self.control.point[i][2]+=xyz[i][2]\n",
    "                self.control.run()\n",
    "        xyz=[[55,78,0],[55,78,0],[55,78,0],[55,78,0]]\n",
    "        for i in range(4):\n",
    "            xyz[i][0]=(xyz[i][0]-self.control.point[i][0])/30\n",
    "            xyz[i][1]=(xyz[i][1]-self.control.point[i][1])/30\n",
    "            xyz[i][2]=(xyz[i][2]-self.control.point[i][2])/30\n",
    "        for j in range(30):\n",
    "            for i in range(4):\n",
    "                self.control.point[i][0]+=xyz[i][0]\n",
    "                self.control.point[i][1]+=xyz[i][1]\n",
    "                self.control.point[i][2]+=xyz[i][2]\n",
    "            self.control.run()\n",
    "            time.sleep(0.02)\n",
    "        time.sleep(1)\n",
    "        \n",
    "    def yoga(self):\n",
    "        xyz=[[55,78,0],[55,78,0],[55,78,0],[55,78,0]]\n",
    "        for i in range(4):\n",
    "            xyz[i][0]=(xyz[i][0]-self.control.point[i][0])/30\n",
    "            xyz[i][1]=(xyz[i][1]-self.control.point[i][1])/30\n",
    "            xyz[i][2]=(xyz[i][2]-self.control.point[i][2])/30\n",
    "        for j in range(30):\n",
    "            for i in range(4):\n",
    "                self.control.point[i][0]+=xyz[i][0]\n",
    "                self.control.point[i][1]+=xyz[i][1]\n",
    "                self.control.point[i][2]+=xyz[i][2]\n",
    "            self.control.run()\n",
    "            time.sleep(0.02)\n",
    "            \n",
    "        y=100*math.cos(45/180*math.pi)+23\n",
    "        x=100*math.sin(45/180*math.pi)\n",
    "        xyz=[[-x,y,0],[0,0,123],[0,0,-123],[-x,y,0]]\n",
    "        for i in range(4):\n",
    "            xyz[i][0]=(xyz[i][0]-self.control.point[i][0])/30\n",
    "            xyz[i][1]=(xyz[i][1]-self.control.point[i][1])/30\n",
    "            xyz[i][2]=(xyz[i][2]-self.control.point[i][2])/30\n",
    "        for j in range(30):\n",
    "            for i in range(4):\n",
    "                self.control.point[i][0]+=xyz[i][0]\n",
    "                self.control.point[i][1]+=xyz[i][1]\n",
    "                self.control.point[i][2]+=xyz[i][2]\n",
    "            self.control.run() \n",
    "            time.sleep(0.02)\n",
    "            \n",
    "        for i in range(3):\n",
    "            for i in range(45,-45,-1):\n",
    "                y=100*math.cos(i/180*math.pi)+23\n",
    "                x=100*math.sin(i/180*math.pi)\n",
    "                xyz=[[-x,y,0],[0,0,123],[0,0,-123],[-x,y,0]]\n",
    "                for i in range(4):\n",
    "                    xyz[i][0]=(xyz[i][0]-self.control.point[i][0])\n",
    "                    xyz[i][1]=(xyz[i][1]-self.control.point[i][1])\n",
    "                    xyz[i][2]=(xyz[i][2]-self.control.point[i][2])\n",
    "                for i in range(4):\n",
    "                    self.control.point[i][0]+=xyz[i][0]\n",
    "                    self.control.point[i][1]+=xyz[i][1]\n",
    "                    self.control.point[i][2]+=xyz[i][2]\n",
    "                self.control.run() \n",
    "            for i in range(-45,45,1):\n",
    "                y=100*math.cos(i/180*math.pi)+23\n",
    "                x=100*math.sin(i/180*math.pi)\n",
    "                xyz=xyz=[[-x,y,0],[0,0,123],[0,0,-123],[-x,y,0]]\n",
    "                for i in range(4):\n",
    "                    xyz[i][0]=(xyz[i][0]-self.control.point[i][0])\n",
    "                    xyz[i][1]=(xyz[i][1]-self.control.point[i][1])\n",
    "                    xyz[i][2]=(xyz[i][2]-self.control.point[i][2])\n",
    "                for i in range(4):\n",
    "                    self.control.point[i][0]+=xyz[i][0]\n",
    "                    self.control.point[i][1]+=xyz[i][1]\n",
    "                    self.control.point[i][2]+=xyz[i][2]\n",
    "                self.control.run() \n",
    "        xyz=[[55,78,0],[55,78,0],[55,78,0],[55,78,0]]\n",
    "        for i in range(4):\n",
    "            xyz[i][0]=(xyz[i][0]-self.control.point[i][0])/30\n",
    "            xyz[i][1]=(xyz[i][1]-self.control.point[i][1])/30\n",
    "            xyz[i][2]=(xyz[i][2]-self.control.point[i][2])/30\n",
    "        for j in range(30):\n",
    "            for i in range(4):\n",
    "                self.control.point[i][0]+=xyz[i][0]\n",
    "                self.control.point[i][1]+=xyz[i][1]\n",
    "                self.control.point[i][2]+=xyz[i][2]\n",
    "            self.control.run()\n",
    "            time.sleep(0.02)\n",
    "        time.sleep(1)\n",
    "\n",
    "\n",
    "    def rest(self):\n",
    "        z=100*math.cos(45/180*math.pi)+23\n",
    "        x=100*math.sin(45/180*math.pi)\n",
    "        xyz=[[-x,0,z],[-78,0,100],[-78,0,-100],[-x,0,-z]]\n",
    "        for i in range(4):\n",
    "            xyz[i][0]=(xyz[i][0]-self.control.point[i][0])/30\n",
    "            xyz[i][1]=(xyz[i][1]-self.control.point[i][1])/30\n",
    "            xyz[i][2]=(xyz[i][2]-self.control.point[i][2])/30\n",
    "    \n",
    "    def roll(self):\n",
    "        z=100*math.cos(45/180*math.pi)+23\n",
    "        x=100*math.sin(45/180*math.pi)\n",
    "        xyz=[[-x,0,z],[-78,0,100],[-78,0,-100],[-x,0,-z]]\n",
    "        for i in range(4):\n",
    "            xyz[i][0]=(xyz[i][0]-self.control.point[i][0])/30\n",
    "            xyz[i][1]=(xyz[i][1]-self.control.point[i][1])/30\n",
    "            xyz[i][2]=(xyz[i][2]-self.control.point[i][2])/30\n",
    "        for j in range(30):\n",
    "            for i in range(4):\n",
    "                self.control.point[i][0]+=xyz[i][0]\n",
    "                self.control.point[i][1]+=xyz[i][1]\n",
    "                self.control.point[i][2]+=xyz[i][2]\n",
    "            self.control.run()\n",
    "            time.sleep(0.02)\n",
    "        for j in range(30):\n",
    "            for i in range(4):\n",
    "                self.control.point[i][0]+=xyz[i][0]\n",
    "                self.control.point[i][1]+=xyz[i][1]\n",
    "                self.control.point[i][2]+=xyz[i][2]\n",
    "            self.control.run()\n",
    "            time.sleep(0.02)"
   ]
  },
  {
   "cell_type": "code",
   "execution_count": null,
   "id": "74db8751-3ada-4cf1-91b5-dc36e5de6c07",
   "metadata": {},
   "outputs": [],
   "source": [
    "if __name__=='__main__':\n",
    "    action=Action()  \n",
    "    time.sleep(2)\n",
    "    control=Control()\n",
    "    for x in range(2):\n",
    "        #action.push_ups()\n",
    "        #action.helloOne()\n",
    "        #action.hand()\n",
    "        #action.coquettish() \n",
    "        #action.swim() \n",
    "        #action.yoga() \n",
    "        #action.helloTwo()\n",
    "        #action.rest()\n",
    "        action.roll()\n",
    "        time.sleep(3)\n",
    "    control.relax(True)"
   ]
  },
  {
   "cell_type": "code",
   "execution_count": null,
   "id": "7ffe02db-187e-43f0-b627-77d91f68842b",
   "metadata": {},
   "outputs": [],
   "source": [
    "from IPython.display import display \n",
    "import ipywidgets as widgets \n",
    "from ipywidgets import interact, Layout \n"
   ]
  },
  {
   "cell_type": "code",
   "execution_count": null,
   "id": "4d1974b3-6562-49c7-a8bb-9ab59e0ec2a9",
   "metadata": {
    "slideshow": {
     "slide_type": "slide"
    },
    "tags": []
   },
   "outputs": [],
   "source": [
    "from ipywidgets import Text, IntSlider, Dropdown\n",
    "# Erstelle ein neues Text-Eingabefeld tb1 und zeige es an.\n",
    "tb1 = Text(value='Text eingeben', \n",
    "                   description='Text-Widget: ')\n",
    "display(tb1)\n",
    "# Erstelle IntSlider-Widget is1 und zeige es an.\n",
    "is1 = IntSlider(value=7, min=0, max=10, \n",
    "                        step=1, description='IntSlider: ')\n",
    "display(is1)\n",
    "# Erstelle Dropdown-Widget dd1 und zeige es an\n",
    "dd1 = Dropdown(options=['1', '2', '3'], \n",
    "                       value='2', description='Dropdown: ')\n",
    "display(dd1) "
   ]
  },
  {
   "cell_type": "code",
   "execution_count": null,
   "id": "65f57f17-f618-41b5-8c14-9cb2660ed465",
   "metadata": {
    "slideshow": {
     "slide_type": "subslide"
    },
    "tags": []
   },
   "outputs": [],
   "source": [
    "print('Wert des Widgets is1 ist: ' + str(is1.value))  \n",
    "print('Wert des Widgets dd1 ist: ' + str(dd1.value)) "
   ]
  },
  {
   "cell_type": "code",
   "execution_count": null,
   "id": "6677b479-61c7-4b5b-9109-6c39f84fa67a",
   "metadata": {},
   "outputs": [],
   "source": [
    "import ipywidgets\n",
    "from ipywidgets import Text, Button\n",
    "# Erstelle zwei Text-Eingabefelder\n",
    "textbox1 = Text(description='a'); display(textbox1)\n",
    "textbox2 = Text(description='b');display(textbox2)\n",
    "# ... einen Button\n",
    "button = Button(description='Berechnen!', \n",
    "                        layout=Layout(width='200px'))\n",
    "button.style.button_color = 'lightgreen'\n",
    "display(button)\n",
    "# ... und ein Text-Ausgabefeld für die Summe\n",
    "textbox3 = Text(description='Summe')\n",
    "display(textbox3)\n",
    "# Definiere Eventhandler für den Button\n",
    "def on_button_clicked(sender):\n",
    "    a = int(textbox1.value)\n",
    "    b = int(textbox2.value)\n",
    "    textbox3.value = str(a+b)\n",
    "# ... und weise ihn dem on_click-Ereignis zu\n",
    "button.on_click(on_button_clicked)"
   ]
  },
  {
   "cell_type": "code",
   "execution_count": null,
   "id": "e9780bad-3801-4cd9-8447-9927f4da1743",
   "metadata": {},
   "outputs": [],
   "source": [
    "# myfunc1 gibt einen Text aus, der von x abhängt \n",
    "def myfunc1(x):  \n",
    "    print('Auswahl: ' + str(x)) \n",
    "# interact erzeugt Dropdown-Widget \n",
    "interact(myfunc1, x = [1, 2, 3]); "
   ]
  },
  {
   "cell_type": "code",
   "execution_count": null,
   "id": "429894ff-c863-483c-ad42-f76e7714b668",
   "metadata": {},
   "outputs": [],
   "source": [
    "# myfunc2 gibt den eingegebenen Text aus \n",
    "def myfunc2(x):  \n",
    "    print('Ihre Eingabe: ' + str(x)) \n",
    "interact(myfunc2, x = 'Text eingeben'); "
   ]
  },
  {
   "cell_type": "code",
   "execution_count": null,
   "id": "ffc50724-df59-4d20-bf9e-5cab34bda678",
   "metadata": {},
   "outputs": [],
   "source": [
    "!pip3 install matplotlib\n",
    "!pip install numpy --upgrade"
   ]
  },
  {
   "cell_type": "code",
   "execution_count": null,
   "id": "e4ca5ef1-eb0b-414c-9612-5338dbf61f68",
   "metadata": {},
   "outputs": [],
   "source": [
    "import matplotlib.pyplot as plt \n",
    "from numpy import arange,sin,pi \n",
    "# Definiere myplot-Funktion  \n",
    "def myplot(xmax): \n",
    " x = arange(0, xmax, 0.01);y = sin(2*pi*x); \n",
    " plt.plot(x,y); \n",
    "# Erstelle ein Widget für den Plot mit Hilfe von interact \n",
    "interact(myplot, xmax = (pi/2,4*pi));"
   ]
  },
  {
   "cell_type": "code",
   "execution_count": null,
   "id": "f4e281f4-3ae3-4e20-9ea0-7e9dacd6ce9a",
   "metadata": {},
   "outputs": [],
   "source": [
    "from ipywidgets import FloatSlider, interactive_output, VBox\n",
    "def myplot(xmax):\n",
    "     x = arange(0, xmax, 0.01)\n",
    "     y = sin(2*pi*x)\n",
    "     plt.plot(x,y)\n",
    "ui_xmax = FloatSlider(description='xmax', value=10, min=pi/2, max=2*pi);\n",
    "out = interactive_output(myplot, {'xmax': ui_xmax}); \n",
    "display(VBox([ui_xmax,out], layout=Layout(width='50%',border='1px dotted blue')))"
   ]
  },
  {
   "cell_type": "markdown",
   "id": "57fad32c-1833-4513-87b9-064d882a2a20",
   "metadata": {},
   "source": [
    "Neue Funktion, um Parameter für Roboter grafisch einzustellen.\n",
    "Position Array 3x4?\n",
    "Winkel Array 3x4\n",
    "etc"
   ]
  },
  {
   "cell_type": "code",
   "execution_count": null,
   "id": "21ad5196-ee06-4359-b23d-d6029312fb6f",
   "metadata": {},
   "outputs": [],
   "source": [
    "def func1(xmax,y): \n",
    " x = arange(0, xmax, 0.01);y = sin(2*pi*x); \n",
    "interact(func1, xmax=(100),y=1); "
   ]
  },
  {
   "cell_type": "code",
   "execution_count": null,
   "id": "439c0ad3-cdd6-44aa-8601-cac8c1161306",
   "metadata": {},
   "outputs": [],
   "source": [
    "\n",
    "    \n",
    "    "
   ]
  },
  {
   "cell_type": "code",
   "execution_count": null,
   "id": "37dac7fa-24e1-4156-b11d-5a32b85c2087",
   "metadata": {},
   "outputs": [],
   "source": [
    "import math\n",
    "from Control import *\n",
    "from Servo import *\n",
    "\n",
    "from IPython.display import display \n",
    "import ipywidgets as widgets \n",
    "from ipywidgets import interact, Layout\n",
    "from ipywidgets import Text, Button"
   ]
  },
  {
   "cell_type": "code",
   "execution_count": null,
   "id": "0558e404-1c0b-40cc-a9de-787e2e89b0da",
   "metadata": {},
   "outputs": [],
   "source": [
    "c = Control()\n",
    "c.angle\n",
    "\n",
    "def setPoints(xl,yl,zl,xr,yr,zr):\n",
    "    links = ([xl,yl,zl])\n",
    "    rechts = ([xr,yr,zr])\n",
    "    c.point = [[xl,yl,zl],[xl,yl,zl],[xr,yr,zr],[xr,yr,zr]]\n",
    "    c.run()\n",
    "    \n",
    "interact(setPoints, xl=(70,100),yl=(80,100),zl=(-16,16), xr=(70,100),yr=(80,100),zr=(-16,16));\n",
    "\n",
    "button = Button(description='Relax', \n",
    "                        layout=Layout(width='200px'))\n",
    "button.style.button_color = 'lightgreen'\n",
    "display(button)\n",
    "# Definiere Eventhandler für den Button\n",
    "zaehler = 1\n",
    "def on_button_clicked(sender):\n",
    "    c.relax(True)\n",
    "        \n",
    "button.on_click(on_button_clicked)"
   ]
  },
  {
   "cell_type": "code",
   "execution_count": null,
   "id": "227ce2f9-71d1-4ba4-a9c6-a8c75cdb7eba",
   "metadata": {},
   "outputs": [],
   "source": [
    "c.run()"
   ]
  },
  {
   "cell_type": "code",
   "execution_count": null,
   "id": "2d653293-2b8a-4f55-9a7b-b25840754e21",
   "metadata": {},
   "outputs": [],
   "source": [
    "c.relax(True)"
   ]
  },
  {
   "cell_type": "code",
   "execution_count": null,
   "id": "15f63c64-f083-4c91-9b6f-f1ccd2eb1ebd",
   "metadata": {},
   "outputs": [],
   "source": [
    "c.relax(False)"
   ]
  },
  {
   "cell_type": "code",
   "execution_count": null,
   "id": "5e8cb838-b9bb-434b-8dfd-c98c88c8b0ea",
   "metadata": {},
   "outputs": [],
   "source": [
    "c.point"
   ]
  },
  {
   "cell_type": "code",
   "execution_count": null,
   "id": "5d4b6cc3-c513-4cd6-a18e-5843f21570fd",
   "metadata": {},
   "outputs": [],
   "source": [
    "c.checkPoint()"
   ]
  },
  {
   "cell_type": "code",
   "execution_count": null,
   "id": "20506a30-ac51-4010-9934-148f96d1f616",
   "metadata": {},
   "outputs": [],
   "source": []
  },
  {
   "cell_type": "code",
   "execution_count": null,
   "id": "bf812174-c3e7-4bf4-9dfd-112b4d836beb",
   "metadata": {},
   "outputs": [],
   "source": [
    "!pip install ipywidgets"
   ]
  },
  {
   "cell_type": "code",
   "execution_count": null,
   "id": "c5edd7ca-ab3b-4c84-b4da-0f572720147e",
   "metadata": {},
   "outputs": [],
   "source": [
    "from ipywidgets import Controller\n"
   ]
  },
  {
   "cell_type": "code",
   "execution_count": null,
   "id": "5c99d098-6d0e-454c-bd92-4630685fc852",
   "metadata": {},
   "outputs": [],
   "source": [
    "Controller()"
   ]
  },
  {
   "cell_type": "code",
   "execution_count": null,
   "id": "f0bb406f-8e38-42e9-a0e3-cc52eff65934",
   "metadata": {},
   "outputs": [],
   "source": []
  },
  {
   "cell_type": "markdown",
   "id": "92911ece-ed8e-4123-a1f0-cf0740d17b93",
   "metadata": {},
   "source": [
    "### Battery Energy estimation\n",
    "$$123 - {123\\over(1 + (v/3.7)^{80})^{0.165}}$$\n",
    "\n",
    "die Frage ist wie ist das bei 2 Zellen?"
   ]
  },
  {
   "cell_type": "code",
   "execution_count": 4,
   "id": "1f66019b-8119-4868-a580-95c0ef2f41a2",
   "metadata": {},
   "outputs": [
    {
     "data": {
      "text/plain": [
       "7.882352941176471"
      ]
     },
     "execution_count": 4,
     "metadata": {},
     "output_type": "execute_result"
    }
   ],
   "source": [
    "from ADS7830 import *\n",
    "a = ADS7830 ()\n",
    "a.power(0)"
   ]
  },
  {
   "cell_type": "code",
   "execution_count": 5,
   "id": "52058b50-d936-4f63-b7ba-d225d1599d15",
   "metadata": {},
   "outputs": [],
   "source": [
    "def remaining(voltage):\n",
    "    v = voltage\n",
    "    energy = (123 - 123/(1 + (v/(3.7*2))**80)**0.165)\n",
    "    return energy"
   ]
  },
  {
   "cell_type": "code",
   "execution_count": 6,
   "id": "e5acfd6d-82d0-491e-a1c8-3dc6045813bf",
   "metadata": {},
   "outputs": [
    {
     "data": {
      "text/plain": [
       "69.61"
      ]
     },
     "execution_count": 6,
     "metadata": {},
     "output_type": "execute_result"
    }
   ],
   "source": [
    "rest = remaining(a.power(0))\n",
    "round(rest,2)"
   ]
  },
  {
   "cell_type": "code",
   "execution_count": null,
   "id": "23290bcb-9484-4460-9c1e-9af6f6214d47",
   "metadata": {},
   "outputs": [],
   "source": []
  },
  {
   "cell_type": "markdown",
   "id": "6bcf5fd9-4534-4213-88f1-6d4d3bb8c3a9",
   "metadata": {},
   "source": [
    "### LED Control"
   ]
  },
  {
   "cell_type": "code",
   "execution_count": null,
   "id": "092076e3-2970-4d36-ad7f-a8bcb6c12f7c",
   "metadata": {},
   "outputs": [],
   "source": []
  },
  {
   "cell_type": "code",
   "execution_count": null,
   "id": "ebf713cc-e42e-427f-b1fe-70fdd6cfc5e5",
   "metadata": {},
   "outputs": [],
   "source": [
    "from test import *\n",
    "test_Led()"
   ]
  },
  {
   "cell_type": "code",
   "execution_count": null,
   "id": "bda41a58-7392-4ac4-9dbd-c5b7ff70f9e4",
   "metadata": {},
   "outputs": [],
   "source": [
    "from Led import *\n",
    "led = Led()\n",
    "led.colorWipe(led.strip, Color(10, 0, 0)) \n",
    "time.sleep(2)\n",
    "led.colorWipe(led.strip, Color(0, 0, 0)) \n",
    "time.sleep(2)\n",
    "led.rainbow(led.strip)"
   ]
  },
  {
   "cell_type": "code",
   "execution_count": null,
   "id": "274db2b1-9026-4995-ad14-04897e25e2bd",
   "metadata": {},
   "outputs": [],
   "source": []
  },
  {
   "cell_type": "code",
   "execution_count": null,
   "id": "e04fc6e0-0c45-4b66-94e6-812773485d9a",
   "metadata": {},
   "outputs": [],
   "source": []
  },
  {
   "cell_type": "markdown",
   "id": "a36ca72b-a5f9-4c9e-acc6-9d1197e9db20",
   "metadata": {},
   "source": [
    "### Servo Control"
   ]
  },
  {
   "cell_type": "code",
   "execution_count": 44,
   "id": "e63fd294-8765-4093-be4a-e35474f7740c",
   "metadata": {},
   "outputs": [],
   "source": [
    "from Servo import *\n",
    "import numpy as np\n",
    "\n",
    "servo=Servo()\n",
    "\n",
    "fl = (4,3,2)\n",
    "fr = (8,9,10)\n",
    "rl = (7,6,5)\n",
    "rr = (11,12,13)\n",
    "\n",
    "joints = np.array([[4, 3, 2],[8, 9, 10],[7, 6, 5],[11, 12, 13]])\n",
    "joints = joints.transpose()\n",
    "\n",
    "fl = joints[:,0]\n",
    "fr = joints[:,1]\n",
    "rl = joints[:,2]\n",
    "rr = joints[:,3]\n",
    "\n",
    "rolls = joints[0,:]\n",
    "hips = joints[1,:]\n",
    "knees = joints[2,:]"
   ]
  },
  {
   "cell_type": "code",
   "execution_count": 60,
   "id": "a1cce987-c428-4ddf-8c23-9a35054acb16",
   "metadata": {},
   "outputs": [
    {
     "data": {
      "application/vnd.jupyter.widget-view+json": {
       "model_id": "78e3a276a7024272b3ce705d8f1135fc",
       "version_major": 2,
       "version_minor": 0
      },
      "text/plain": [
       "interactive(children=(FloatSlider(value=90.0, description='q1', max=162.0, min=18.0), Output()), _dom_classes=…"
      ]
     },
     "metadata": {},
     "output_type": "display_data"
    },
    {
     "data": {
      "application/vnd.jupyter.widget-view+json": {
       "model_id": "1f75304c8cef43b88790c9be6defefdb",
       "version_major": 2,
       "version_minor": 0
      },
      "text/plain": [
       "Button(description='Relax', layout=Layout(width='200px'), style=ButtonStyle(button_color='lightgreen'))"
      ]
     },
     "metadata": {},
     "output_type": "display_data"
    }
   ],
   "source": [
    "def setAngles(q1=90.00):\n",
    "        servo.setServoAngle(knees[0],180-q1)\n",
    "        servo.setServoAngle(knees[1],q1)\n",
    "        servo.setServoAngle(knees[2],180-q1)\n",
    "        servo.setServoAngle(knees[3],q1)\n",
    "        \n",
    "from IPython.display import display \n",
    "import ipywidgets as widgets \n",
    "from ipywidgets import interact, Layout\n",
    "from ipywidgets import Text, Button\n",
    "\n",
    "from Control import *\n",
    "c = Control()\n",
    "\n",
    "interact(setAngles, q1=(18,162,0.1));\n",
    "\n",
    "button = Button(description='Relax', \n",
    "                        layout=Layout(width='200px'))\n",
    "button.style.button_color = 'lightgreen'\n",
    "display(button)\n",
    "# Definiere Eventhandler für den Button\n",
    "zaehler = 1\n",
    "def on_button_clicked(sender):\n",
    "    c.relax(True)\n",
    "        \n",
    "button.on_click(on_button_clicked)"
   ]
  },
  {
   "cell_type": "markdown",
   "id": "14e31059-8574-4706-9221-d02fbb43c676",
   "metadata": {},
   "source": [
    "#### Trying to control all angles separately"
   ]
  },
  {
   "cell_type": "code",
   "execution_count": 29,
   "id": "c827af97-11d8-430d-8786-8af23df16767",
   "metadata": {},
   "outputs": [
    {
     "data": {
      "application/vnd.jupyter.widget-view+json": {
       "model_id": "d5ac34633a344158b3ecd297f28c9362",
       "version_major": 2,
       "version_minor": 0
      },
      "text/plain": [
       "interactive(children=(IntSlider(value=90, description='q1', max=270, min=-90), IntSlider(value=90, description…"
      ]
     },
     "metadata": {},
     "output_type": "display_data"
    },
    {
     "data": {
      "application/vnd.jupyter.widget-view+json": {
       "model_id": "c59454be88e64cd38b86a83f8fe56694",
       "version_major": 2,
       "version_minor": 0
      },
      "text/plain": [
       "interactive(children=(IntSlider(value=90, description='q', max=270, min=-90), IntSlider(value=90, description=…"
      ]
     },
     "metadata": {},
     "output_type": "display_data"
    },
    {
     "data": {
      "application/vnd.jupyter.widget-view+json": {
       "model_id": "736b1e87cdab40ca8d098213320c6da9",
       "version_major": 2,
       "version_minor": 0
      },
      "text/plain": [
       "Button(description='Relax', layout=Layout(width='200px'), style=ButtonStyle(button_color='lightgreen'))"
      ]
     },
     "metadata": {},
     "output_type": "display_data"
    }
   ],
   "source": [
    "angles = np.array(c.angle)\n",
    "angles = angles.transpose()\n",
    "\n",
    "\n",
    "\n",
    "        \n",
    "from IPython.display import display \n",
    "import ipywidgets as widgets \n",
    "from ipywidgets import interact, Layout\n",
    "from ipywidgets import Text, Button\n",
    "\n",
    "from Control import *\n",
    "c = Control()\n",
    "\n",
    "angles = np.ones((3,4))*90\n",
    "\n",
    "@interact(q1=90)\n",
    "def setAngles(q1=90,q2=90,q3=90,q4=90,q5=90,q6=90,q7=90,q8=90,q9=90,q10=90,q11=90,q12=90):\n",
    "    angles = np.array([[q1, q4, q7, q10], [q2, q5, q8, q11], [q3, q6, q9, q12]])\n",
    "    for i, x in enumerate(angles[:,0]):\n",
    "        servo.setServoAngle(joints[i,0],180-x)\n",
    "    for i, x in enumerate(angles[:,1]):\n",
    "        servo.setServoAngle(joints[i,1],x)\n",
    "    for i, x in enumerate(angles[:,2]):\n",
    "        servo.setServoAngle(joints[i,2],180-x)\n",
    "    for i, x in enumerate(angles[:,3]):\n",
    "        servo.setServoAngle(joints[i,3],x)\n",
    "        \n",
    "@interact(q=90)      \n",
    "def setKnees(q,q1=90,q2=90,q3=90,q4=90,q5=90,q6=90,q7=90,q8=90,q9=90,q10=90,q11=90,q12=90):\n",
    "    setAngles(q1,q2,q,q4,q5,q,q7,q8,q,q10,q11,q)\n",
    "    \n",
    "button = Button(description='Relax', \n",
    "                        layout=Layout(width='200px'))\n",
    "button.style.button_color = 'lightgreen'\n",
    "display(button)\n",
    "# Definiere Eventhandler für den Button\n",
    "zaehler = 1\n",
    "def on_button_clicked(sender):\n",
    "    c.relax(True)\n",
    "        \n",
    "button.on_click(on_button_clicked)"
   ]
  },
  {
   "cell_type": "code",
   "execution_count": 52,
   "id": "af9b47f4-1466-46a9-8cf1-ea46a209f88e",
   "metadata": {},
   "outputs": [
    {
     "name": "stdout",
     "output_type": "stream",
     "text": [
      "even\n",
      "(0, 0) 0\n",
      "even\n",
      "(0, 1) 1\n",
      "uneven\n",
      "(0, 2) 2\n",
      "even\n",
      "(0, 3) 3\n",
      "even\n",
      "(1, 0) 4\n",
      "even\n",
      "(1, 1) 5\n",
      "uneven\n",
      "(1, 2) 6\n",
      "even\n",
      "(1, 3) 7\n",
      "even\n",
      "(2, 0) 8\n",
      "even\n",
      "(2, 1) 9\n",
      "uneven\n",
      "(2, 2) 10\n",
      "even\n",
      "(2, 3) 11\n",
      "[[ 0  1  2  3]\n",
      " [ 4  5  6  7]\n",
      " [ 8  9 10 11]]\n",
      "[[ 4  8  7 11]\n",
      " [ 3  9  6 12]\n",
      " [ 2 10  5 13]]\n"
     ]
    }
   ],
   "source": [
    "#vielleicht geht winkel setzen noch kompakter, muss noch für ungerade umstellen (180-q) :\n",
    "\n",
    "angles = np.arange(12).reshape((3,4))\n",
    "for ind, val in np.ndenumerate(angles):\n",
    "    if (ind[1] /2) == True:\n",
    "        servo.setServoAngle(joints[ind],180-val)\n",
    "        print(\"uneven\")\n",
    "    else:\n",
    "        servo.setServoAngle(joints[ind],val)\n",
    "        print(\"even\")\n",
    "    print(ind,val)\n",
    "print(angles)\n",
    "print(joints)"
   ]
  },
  {
   "cell_type": "markdown",
   "id": "90c2ceb6-90d6-4f83-9563-bd52cf4c975c",
   "metadata": {},
   "source": [
    "#### Offset\n"
   ]
  },
  {
   "cell_type": "markdown",
   "id": "d6aa3c08-e22a-47e5-8e2a-747325200ce9",
   "metadata": {},
   "source": [
    "1. getting calibration angles\n",
    "estimated\n",
    "q1 100\n",
    "q2 55\n",
    "q3 80\n",
    "q4 100\n",
    "q5 33\n",
    "q6 68\n",
    "q7 88\n",
    "q8 45\n",
    "q9 67\n",
    "q10 93\n",
    "q11 44\n",
    "q12 73"
   ]
  },
  {
   "cell_type": "code",
   "execution_count": 77,
   "id": "d3f979f0-20a4-4125-a3fa-9e997cf61090",
   "metadata": {},
   "outputs": [
    {
     "data": {
      "text/plain": [
       "array([[-10,   1,  11,   4],\n",
       "       [-36, -47, -56, -45],\n",
       "       [ 10,  23,  20,  16]])"
      ]
     },
     "execution_count": 77,
     "metadata": {},
     "output_type": "execute_result"
    }
   ],
   "source": [
    "c.calibration()\n",
    "cangles = np.array(c.calibration_angle)\n",
    "cangles = cangles.transpose()\n",
    "cangles"
   ]
  },
  {
   "cell_type": "code",
   "execution_count": 80,
   "id": "1c40edd2-44d5-41de-a9fe-0c55f1742b96",
   "metadata": {},
   "outputs": [
    {
     "data": {
      "text/plain": [
       "array([[90, 90, 90, 90],\n",
       "       [ 0,  0,  0,  0],\n",
       "       [90, 90, 90, 90]])"
      ]
     },
     "execution_count": 80,
     "metadata": {},
     "output_type": "execute_result"
    }
   ],
   "source": [
    "angles = np.array(c.angle)\n",
    "angles = angles.transpose()\n",
    "angles"
   ]
  },
  {
   "cell_type": "code",
   "execution_count": 81,
   "id": "2ea313f3-fa8e-46ae-88a2-864723ce5d0b",
   "metadata": {},
   "outputs": [
    {
     "data": {
      "text/plain": [
       "array([[ 80,  91, 101,  94],\n",
       "       [-36, -47, -56, -45],\n",
       "       [100, 113, 110, 106]])"
      ]
     },
     "execution_count": 81,
     "metadata": {},
     "output_type": "execute_result"
    }
   ],
   "source": [
    "angles = angles + cangles\n",
    "angles"
   ]
  },
  {
   "cell_type": "markdown",
   "id": "cbeb7ac7-0abe-4541-9720-0fc65ef73c12",
   "metadata": {},
   "source": [
    "#### Testing with calibration\n",
    "gehört noch ausgebessert. Zuordnung falsch?"
   ]
  },
  {
   "cell_type": "code",
   "execution_count": null,
   "id": "ff525d73-3723-490c-8728-3db40584909d",
   "metadata": {},
   "outputs": [],
   "source": []
  },
  {
   "cell_type": "code",
   "execution_count": 7,
   "id": "cfe9515a-716d-46e7-8483-b01109bad863",
   "metadata": {},
   "outputs": [
    {
     "data": {
      "application/vnd.jupyter.widget-view+json": {
       "model_id": "a037988caf654711b803adea6b001720",
       "version_major": 2,
       "version_minor": 0
      },
      "text/plain": [
       "interactive(children=(FloatSlider(value=90.0, description='q1', max=162.0, min=18.0), Output()), _dom_classes=…"
      ]
     },
     "metadata": {},
     "output_type": "display_data"
    },
    {
     "data": {
      "application/vnd.jupyter.widget-view+json": {
       "model_id": "c11faf2ffa0849c18061479f65460645",
       "version_major": 2,
       "version_minor": 0
      },
      "text/plain": [
       "Button(description='Relax', layout=Layout(width='200px'), style=ButtonStyle(button_color='lightgreen'))"
      ]
     },
     "metadata": {},
     "output_type": "display_data"
    }
   ],
   "source": [
    "import numpy as np\n",
    "from Control import *\n",
    "from Servo import *\n",
    "\n",
    "servo=Servo()\n",
    "c = Control()\n",
    "\n",
    "cangles = np.array(c.calibration_angle)\n",
    "cangles = cangles.transpose()\n",
    "\n",
    "angles = np.array(c.angle)\n",
    "angles = angles.transpose()\n",
    "angles = angles + cangles\n",
    "\n",
    "joints = np.array([[4, 3, 2],[8, 9, 10],[7, 6, 5],[11, 12, 13]])\n",
    "joints = joints.transpose()\n",
    "\n",
    "fl = joints[:,0]\n",
    "fr = joints[:,1]\n",
    "rl = joints[:,2]\n",
    "rr = joints[:,3]\n",
    "\n",
    "rolls = joints[0,:]\n",
    "hips = joints[1,:]\n",
    "knees = joints[2,:]\n",
    "\n",
    "def setAngles(q1=90.00):\n",
    "        for i,x in enumerate(angles[0,:]):\n",
    "            if i == 1 or 3:\n",
    "                servo.setServoAngle(joints[0,i],180-x)\n",
    "            else:\n",
    "                servo.setServoAngle(joints[0,i],x)\n",
    "        for i, x in enumerate(angles[1,:]):\n",
    "            servo.setServoAngle(joints[1,i],x)\n",
    "        for i, x in enumerate(angles[1,:]):\n",
    "            servo.setServoAngle(joints[2,i],x)\n",
    "        servo.setServoAngle(knees[0],180-q1-cangles[2,1])\n",
    "        servo.setServoAngle(knees[1],q1+cangles[2,0])\n",
    "        servo.setServoAngle(knees[2],180-q1-cangles[2,2])\n",
    "        servo.setServoAngle(knees[3],q1+cangles[2,3])\n",
    "        \n",
    "from IPython.display import display \n",
    "import ipywidgets as widgets \n",
    "from ipywidgets import interact, Layout\n",
    "from ipywidgets import Text, Button\n",
    "\n",
    "interact(setAngles, q1=(18,162,0.1));\n",
    "\n",
    "button = Button(description='Relax', \n",
    "                        layout=Layout(width='200px'))\n",
    "button.style.button_color = 'lightgreen'\n",
    "display(button)\n",
    "# Definiere Eventhandler für den Button\n",
    "zaehler = 1\n",
    "def on_button_clicked(sender):\n",
    "    c.relax(True)\n",
    "        \n",
    "button.on_click(on_button_clicked)"
   ]
  },
  {
   "cell_type": "code",
   "execution_count": 8,
   "id": "99292a98-633d-4bd2-9cdb-d5760bed61c7",
   "metadata": {},
   "outputs": [
    {
     "name": "stdout",
     "output_type": "stream",
     "text": [
      "0 88\n",
      "1 88\n",
      "2 92\n",
      "3 92\n",
      "0 90\n",
      "1 90\n",
      "2 64\n",
      "3 64\n",
      "0 140\n",
      "1 140\n",
      "2 90\n",
      "3 90\n"
     ]
    }
   ],
   "source": [
    "for i, x in enumerate(angles[0,:]):\n",
    "    print(i,x)\n",
    "    #print(joints[0,i])\n",
    "    #print(angles[i])\n",
    "    #print(i.index)\n",
    "\n",
    "for i, x in enumerate(angles[1,:]):\n",
    "    print(i,x)\n",
    "    #print(joints[0,i])\n",
    "    #print(angles[i])\n",
    "    #print(i.index)\n",
    "    \n",
    "for i, x in enumerate(angles[2,:]):\n",
    "    print(i,x)\n",
    "    #print(joints[0,i])\n",
    "    #print(angles[i])\n",
    "    #print(i.index)"
   ]
  },
  {
   "cell_type": "code",
   "execution_count": 101,
   "id": "4e818e3c-07bc-451a-9190-b5931c62e311",
   "metadata": {},
   "outputs": [
    {
     "data": {
      "text/plain": [
       "array([[ 76,  98, 106,  92],\n",
       "       [ 44,  44,  24,  46],\n",
       "       [108, 134,  92,  92]])"
      ]
     },
     "execution_count": 101,
     "metadata": {},
     "output_type": "execute_result"
    }
   ],
   "source": [
    "angles"
   ]
  },
  {
   "cell_type": "code",
   "execution_count": null,
   "id": "8d0e008b-594c-4ee1-8be3-163155ab572d",
   "metadata": {},
   "outputs": [],
   "source": []
  }
 ],
 "metadata": {
  "kernelspec": {
   "display_name": "Python 3 (ipykernel)",
   "language": "python",
   "name": "python3"
  },
  "language_info": {
   "codemirror_mode": {
    "name": "ipython",
    "version": 3
   },
   "file_extension": ".py",
   "mimetype": "text/x-python",
   "name": "python",
   "nbconvert_exporter": "python",
   "pygments_lexer": "ipython3",
   "version": "3.9.2"
  }
 },
 "nbformat": 4,
 "nbformat_minor": 5
}
